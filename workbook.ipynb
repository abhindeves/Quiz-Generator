{
 "cells": [
  {
   "cell_type": "code",
   "execution_count": 6,
   "metadata": {},
   "outputs": [],
   "source": [
    "from openai import OpenAI\n",
    "import os"
   ]
  },
  {
   "cell_type": "code",
   "execution_count": 7,
   "metadata": {},
   "outputs": [],
   "source": [
    "openai_key = os.getenv(\"OPENAI_API_KEY\")\n",
    "client = OpenAI(api_key=openai_key)"
   ]
  },
  {
   "cell_type": "code",
   "execution_count": 8,
   "metadata": {},
   "outputs": [],
   "source": [
    "def create_test_prompt(topic,num_questions,num_possible_answer):\n",
    "    \n",
    "    prompt = f\"\"\"Create a multiple-choice quiz on the topic of {topic}. The quizz should contain {num_questions} questions. \n",
    "    Each question should have {num_possible_answer} as options. Include the Correct answer after every question.\n",
    "    Only Include question which are based on Actual Facts. Questions should be PHD Level.\n",
    "    Explore many different subtopics from the {topic}.\n",
    "    \n",
    "    \n",
    "                    \n",
    "    Example: 1\n",
    "\n",
    "    1. Which of the following statements about quantum entanglement is true?\n",
    "    a) Entanglement can be explained solely through classical mechanics.\n",
    "    b) Entanglement is a phenomenon only observed at the macroscopic level.\n",
    "    c) Entanglement violates the principle of locality.\n",
    "    d) Entanglement occurs only between particles with opposite spin.\n",
    "    \n",
    "    \n",
    "    Answer: c) Entanglement violates the principle of locality.\n",
    "    \n",
    "    \n",
    "    Example: 2\n",
    "    \n",
    "    2. What is the primary function of microRNAs (miRNAs) in gene expression regulation?\n",
    "    a) Promote translation of mRNA into protein.\n",
    "    b) Inhibit transcription of DNA into mRNA.\n",
    "    c) Degrade mRNA molecules.\n",
    "    d) Inhibit translation of mRNA into protein.\n",
    "    \n",
    "    \n",
    "    Answer: d) Inhibit translation of mRNA into protein.\n",
    "    \n",
    "    \n",
    "    Example: 3\n",
    "    \n",
    "    3. Computer Science:In the context of machine learning, what does the term \"overfitting\" refer to?\n",
    "    a) The model's inability to capture the underlying trend in the data.\n",
    "    b) The model performing well on the training data but poorly on unseen data.\n",
    "    c) The model's underestimation of the complexity of the data.\n",
    "    d) The model's tendency to generalize well to unseen data.\n",
    "\n",
    "\n",
    "    Answer: b) The model performing well on the training data but poorly on unseen data.\n",
    "    \n",
    "    \n",
    "    \"\"\"\n",
    "    return prompt"
   ]
  },
  {
   "cell_type": "code",
   "execution_count": 9,
   "metadata": {},
   "outputs": [],
   "source": [
    "prompt = create_test_prompt(\"chemistry\",4,1)"
   ]
  },
  {
   "cell_type": "code",
   "execution_count": 10,
   "metadata": {},
   "outputs": [],
   "source": [
    "\n",
    "response = client.chat.completions.create(\n",
    "    model = 'gpt-3.5-turbo',\n",
    "    messages=[\n",
    "        {\n",
    "            \"role\":\"system\",\"content\":\"\"\"You're an experienced quizmaster tasked with crafting questions and answers \n",
    "            tailored to the user's specifications. The questions should be at the level of Phd.\n",
    "            \"\"\",\n",
    "            \"role\":\"user\",\"content\":f\"{prompt}\"\n",
    "        }\n",
    "    ],\n",
    "    temperature = 0.9\n",
    "    \n",
    ")"
   ]
  },
  {
   "cell_type": "code",
   "execution_count": 11,
   "metadata": {},
   "outputs": [],
   "source": [
    "output = response.choices[0].message.content"
   ]
  },
  {
   "cell_type": "code",
   "execution_count": 12,
   "metadata": {},
   "outputs": [],
   "source": [
    "# print(output)"
   ]
  },
  {
   "cell_type": "code",
   "execution_count": 13,
   "metadata": {},
   "outputs": [
    {
     "name": "stdout",
     "output_type": "stream",
     "text": [
      "{1: '1. Which of the following elements is classified as a noble gas in the periodic table?\\na) Neon\\nb) Sodium\\nc) Phosphorus\\nd) Calcium\\n\\n', 2: '\\n\\n2. What is the empirical formula of a compound containing 40.0% carbon, 6.7% hydrogen, and 53.3% oxygen by mass?\\na) CH\\nb) CHO2\\nc) C5H4O3\\nd) C4H6O2\\n\\n', 3: '\\n\\n3. Which of the following statements about the Arrhenius equation is true?\\na) It describes the relationship between reactants and products in a chemical reaction.\\nb) It quantifies the rate of a chemical reaction based on reaction temperature.\\nc) It predicts the concentration of reactants at equilibrium.\\nd) It was proposed to explain the behavior of ideal gases.\\n\\n', 4: '\\n\\n4. Which of the following elements has the highest electronegativity value?\\na) Hydrogen\\nb) Fluorine\\nc) Sodium\\nd) Nitrogen\\n\\n'}\n"
     ]
    }
   ],
   "source": [
    "questions = {1:''}\n",
    "question_number = 1\n",
    "question_block = output.split(\"\\n\")\n",
    "question_block = [block.strip() for block in question_block]\n",
    "for block in question_block:\n",
    "    if not block.startswith(\"Answer: \"):\n",
    "        questions[question_number] += block+'\\n'\n",
    "    else:\n",
    "        if question_number < 4:\n",
    "            question_number += 1\n",
    "            questions[question_number] = ''\n",
    "print(questions)\n",
    "        "
   ]
  },
  {
   "cell_type": "code",
   "execution_count": 14,
   "metadata": {},
   "outputs": [],
   "source": [
    "def create_student_view(test,num_question):\n",
    "    questions = {1:''}\n",
    "    question_number = 1\n",
    "    question_block = test.split(\"\\n\\n\")\n",
    "    question_block = [block.strip() for block in question_block]\n",
    "    for block in question_block:\n",
    "        if not block.startswith(\"Answer: \"):\n",
    "            questions[question_number] += block+'\\n'\n",
    "        else:\n",
    "            if question_number < num_question:\n",
    "                question_number += 1\n",
    "                questions[question_number] = ''\n",
    "    return questions\n",
    "        "
   ]
  },
  {
   "cell_type": "code",
   "execution_count": 15,
   "metadata": {},
   "outputs": [
    {
     "name": "stdout",
     "output_type": "stream",
     "text": [
      "{1: 'Answer: a) Neon\\n', 2: 'Answer: d) C4H6O2\\n', 3: 'Answer: b) It quantifies the rate of a chemical reaction based on reaction temperature.\\n', 4: 'Answer: b) Fluorine\\n'}\n"
     ]
    }
   ],
   "source": [
    "answer = {1:''}\n",
    "question_number = 1\n",
    "question_block = output.split(\"\\n\")\n",
    "question_block = [block.strip() for block in question_block]\n",
    "for block in question_block:\n",
    "    if  block.startswith(\"Answer: \"):\n",
    "        answer[question_number] +=  block+'\\n'\n",
    "        if question_number < 4:\n",
    "            question_number += 1\n",
    "            answer[question_number] = ''\n",
    "print(answer)"
   ]
  },
  {
   "cell_type": "code",
   "execution_count": 16,
   "metadata": {},
   "outputs": [],
   "source": [
    "def extract_answer(test,num_question):\n",
    "    answer = {1:''}\n",
    "    question_number = 1\n",
    "    question_block = test.split(\"\\n\\n\")\n",
    "    for block in question_block:\n",
    "        if  block.startswith(\"Answer: \"):\n",
    "            answer[question_number] +=  block+'\\n'\n",
    "            if question_number < num_question:\n",
    "                question_number += 1\n",
    "                answer[question_number] = ''\n",
    "    return answer\n",
    "        "
   ]
  },
  {
   "cell_type": "code",
   "execution_count": 17,
   "metadata": {},
   "outputs": [],
   "source": [
    "student_view = create_student_view(output,4)\n",
    "answer_key = extract_answer(output,4)"
   ]
  },
  {
   "cell_type": "code",
   "execution_count": 18,
   "metadata": {},
   "outputs": [
    {
     "data": {
      "text/plain": [
       "{1: ''}"
      ]
     },
     "execution_count": 18,
     "metadata": {},
     "output_type": "execute_result"
    }
   ],
   "source": [
    "answer_key"
   ]
  },
  {
   "cell_type": "code",
   "execution_count": 19,
   "metadata": {},
   "outputs": [],
   "source": [
    "# Take the exam\n",
    "\n",
    "def take(student_view):\n",
    "    \n",
    "    student_answer = {}\n",
    "    for question, question_view in student_view.items():\n",
    "        print(question_view)\n",
    "        answer = input(\"Enter Your Answer: \")\n",
    "        student_answer[question] = answer\n",
    "    return student_answer"
   ]
  },
  {
   "cell_type": "code",
   "execution_count": 20,
   "metadata": {},
   "outputs": [
    {
     "name": "stdout",
     "output_type": "stream",
     "text": [
      "1. Which of the following elements is classified as a noble gas in the periodic table?\n",
      "    a) Neon\n",
      "    b) Sodium\n",
      "    c) Phosphorus\n",
      "    d) Calcium\n",
      "    \n",
      "    Answer: a) Neon\n",
      "2. What is the empirical formula of a compound containing 40.0% carbon, 6.7% hydrogen, and 53.3% oxygen by mass?\n",
      "    a) CH\n",
      "    b) CHO2\n",
      "    c) C5H4O3\n",
      "    d) C4H6O2\n",
      "    \n",
      "    Answer: d) C4H6O2\n",
      "3. Which of the following statements about the Arrhenius equation is true?\n",
      "    a) It describes the relationship between reactants and products in a chemical reaction.\n",
      "    b) It quantifies the rate of a chemical reaction based on reaction temperature.\n",
      "    c) It predicts the concentration of reactants at equilibrium.\n",
      "    d) It was proposed to explain the behavior of ideal gases.\n",
      "    \n",
      "    Answer: b) It quantifies the rate of a chemical reaction based on reaction temperature.\n",
      "4. Which of the following elements has the highest electronegativity value?\n",
      "    a) Hydrogen\n",
      "    b) Fluorine\n",
      "    c) Sodium\n",
      "    d) Nitrogen\n",
      "    \n",
      "    Answer: b) Fluorine\n",
      "\n"
     ]
    }
   ],
   "source": [
    "std_answers = take(student_view)"
   ]
  },
  {
   "cell_type": "code",
   "execution_count": 1,
   "metadata": {},
   "outputs": [
    {
     "ename": "NameError",
     "evalue": "name 'answer_key' is not defined",
     "output_type": "error",
     "traceback": [
      "\u001b[1;31m---------------------------------------------------------------------------\u001b[0m",
      "\u001b[1;31mNameError\u001b[0m                                 Traceback (most recent call last)",
      "Cell \u001b[1;32mIn[1], line 2\u001b[0m\n\u001b[0;32m      1\u001b[0m score \u001b[38;5;241m=\u001b[39m \u001b[38;5;241m0\u001b[39m\n\u001b[1;32m----> 2\u001b[0m l \u001b[38;5;241m=\u001b[39m \u001b[38;5;28mlen\u001b[39m(answer_key)\n\u001b[0;32m      3\u001b[0m \u001b[38;5;28;01mfor\u001b[39;00m question,answer \u001b[38;5;129;01min\u001b[39;00m answer_key\u001b[38;5;241m.\u001b[39mitems():\n\u001b[0;32m      4\u001b[0m     ans  \u001b[38;5;241m=\u001b[39m answer\u001b[38;5;241m.\u001b[39msplit(\u001b[38;5;124m\"\u001b[39m\u001b[38;5;124m:\u001b[39m\u001b[38;5;124m\"\u001b[39m)[\u001b[38;5;241m1\u001b[39m]\u001b[38;5;241m.\u001b[39mstrip()[\u001b[38;5;241m0\u001b[39m]\n",
      "\u001b[1;31mNameError\u001b[0m: name 'answer_key' is not defined"
     ]
    }
   ],
   "source": [
    "score = 0\n",
    "l = len(answer_key)\n",
    "for question,answer in answer_key.items():\n",
    "    ans  = answer.split(\":\")[1].strip()[0]\n",
    "    if std_answers[question].lower() == ans.lower():\n",
    "        score += 1\n",
    "print(f\"You Sored {score} out of {l} !!!\")"
   ]
  },
  {
   "cell_type": "code",
   "execution_count": 340,
   "metadata": {},
   "outputs": [],
   "source": [
    "s = \"Sociology: Which sociological perspective emphasizes the importance of social structures and institutions in shaping individuals' behaviors and choices? a) Symbolic interactionism b) Feminist theory\""
   ]
  },
  {
   "cell_type": "code",
   "execution_count": 343,
   "metadata": {},
   "outputs": [
    {
     "data": {
      "text/plain": [
       "'a) Symbolic interactionism b) Feminist theory'"
      ]
     },
     "execution_count": 343,
     "metadata": {},
     "output_type": "execute_result"
    }
   ],
   "source": [
    "s.split(\"? \")[1]"
   ]
  },
  {
   "cell_type": "code",
   "execution_count": 23,
   "metadata": {},
   "outputs": [],
   "source": [
    "student_answers = {\n",
    "\"1\":\"b) Proton\",\n",
    "\"2\":\"c) The universe will reach a state of maximum entropy.\",\n",
    "\"3\":\"a) The speed of light in a vacuum\",\n",
    "\"4\":\"b) Solar wind\"\n",
    "}\n",
    "\n",
    "answer_key = {\n",
    "\"1\":\"Answer: a) Electron\",\n",
    "\"2\":\"Answer: c) The universe will reach a state of maximum entropy.\",\n",
    "\"3\":\"Answer: a) The speed of light in a vacuum\",\n",
    "\"4\":\"Answer: c) Earth's rotation\"\n",
    "}"
   ]
  },
  {
   "cell_type": "code",
   "execution_count": 42,
   "metadata": {},
   "outputs": [
    {
     "name": "stdout",
     "output_type": "stream",
     "text": [
      "{'1': 'b', '2': 'c', '3': 'a', '4': 'b'}\n",
      "================\n",
      "{'1': 'a', '2': 'c', '3': 'a', '4': 'c'}\n"
     ]
    }
   ],
   "source": [
    "for q,a in student_answers.items():\n",
    "    student_answers[q] = a.split(')')[0]\n",
    "print(student_answers)\n",
    "\n",
    "for q,a in answer_key.items():\n",
    "    answer_key[q] = a.split('Answer:')[1].strip()[0]\n",
    "print(answer_key)"
   ]
  },
  {
   "cell_type": "code",
   "execution_count": 24,
   "metadata": {},
   "outputs": [],
   "source": [
    "for question,answer in answer_key.items():\n",
    "    ans  = answer.split('Answer:')[1].strip()[0]\n",
    "    if student_answers[question].lower() == ans.lower():\n",
    "        score += 1\n",
    "print(score)"
   ]
  },
  {
   "cell_type": "code",
   "execution_count": 26,
   "metadata": {},
   "outputs": [
    {
     "data": {
      "text/plain": [
       "0"
      ]
     },
     "execution_count": 26,
     "metadata": {},
     "output_type": "execute_result"
    }
   ],
   "source": [
    "calculate_score(student_answers,answer_key)"
   ]
  },
  {
   "cell_type": "code",
   "execution_count": null,
   "metadata": {},
   "outputs": [],
   "source": []
  }
 ],
 "metadata": {
  "kernelspec": {
   "display_name": "base",
   "language": "python",
   "name": "python3"
  },
  "language_info": {
   "codemirror_mode": {
    "name": "ipython",
    "version": 3
   },
   "file_extension": ".py",
   "mimetype": "text/x-python",
   "name": "python",
   "nbconvert_exporter": "python",
   "pygments_lexer": "ipython3",
   "version": "3.11.7"
  }
 },
 "nbformat": 4,
 "nbformat_minor": 2
}
